{
 "cells": [
  {
   "cell_type": "code",
   "execution_count": null,
   "id": "1621301a-bee6-4f73-9854-a3e1512e33e8",
   "metadata": {},
   "outputs": [],
   "source": [
    "#pip install streamlit (I installed Streamlit)\n",
    "!pip install streamlit"
   ]
  },
  {
   "cell_type": "raw",
   "id": "490f4a14-61e2-448b-91dc-f71c2deafcba",
   "metadata": {
    "tags": []
   },
   "source": [
    "#Import the necessary libraries: Streamlit, sklearn.datasets, and sklearn.ensemble."
   ]
  },
  {
   "cell_type": "code",
   "execution_count": 2,
   "id": "58d8dae9-ddb5-4912-a085-02154fac7240",
   "metadata": {
    "tags": []
   },
   "outputs": [],
   "source": [
    "#Import the necessary librairies\n",
    "import pandas as pd\n",
    "import numpy as np\n",
    "import streamlit as st\n",
    "import sklearn\n",
    "\n",
    "#As we're going to load the datasets\n",
    "from sklearn import datasets\n",
    "from sklearn import ensemble"
   ]
  },
  {
   "cell_type": "raw",
   "id": "6ed0bf0b-9a8d-420e-acbe-e5377f253800",
   "metadata": {
    "tags": []
   },
   "source": [
    "#Load the iris dataset using the \"datasets.load_iris()\" function and assign the data and target variables to \"X\" and \"Y\", respectively."
   ]
  },
  {
   "cell_type": "code",
   "execution_count": 3,
   "id": "bb28cf8b-e951-4de8-9441-12ce9b1b1f65",
   "metadata": {},
   "outputs": [],
   "source": [
    "#Let's load the IRIS Dataset\n",
    "i_data = datasets.load_iris()"
   ]
  },
  {
   "cell_type": "code",
   "execution_count": 4,
   "id": "bbbcb02c-f5b0-44b3-ba59-c4b46ed1b8d3",
   "metadata": {
    "tags": []
   },
   "outputs": [
    {
     "name": "stdout",
     "output_type": "stream",
     "text": [
      "['setosa' 'versicolor' 'virginica']\n"
     ]
    }
   ],
   "source": [
    "print(i_data.target_names)"
   ]
  },
  {
   "cell_type": "code",
   "execution_count": 5,
   "id": "e3d9fba0-78ac-43ee-ae1a-cd27918b4082",
   "metadata": {
    "tags": []
   },
   "outputs": [],
   "source": [
    "data=pd.DataFrame({\n",
    "'sepal length': i_data.data[:,0],\n",
    "'sepal width': i_data.data[:,1],\n",
    "'petal length': i_data.data[:,2],\n",
    "'petal width': i_data.data[:,3],\n",
    "'Species': i_data.target})"
   ]
  },
  {
   "cell_type": "code",
   "execution_count": 6,
   "id": "7db58724-5e16-45cc-b395-12bff10816d3",
   "metadata": {
    "tags": []
   },
   "outputs": [],
   "source": [
    "X = i_data.data #features\n",
    "Y = i_data.target #target"
   ]
  },
  {
   "cell_type": "raw",
   "id": "899c4bab-54d8-4441-afc2-09e56a42ad1c",
   "metadata": {
    "tags": []
   },
   "source": [
    "#Set up a Random Forest Classifier and fit the model using the \"RandomForestClassifier()\" and \"fit()\" functions."
   ]
  },
  {
   "cell_type": "code",
   "execution_count": 7,
   "id": "c9cbf791-53f1-4a87-a5b1-1757362fe30b",
   "metadata": {
    "tags": []
   },
   "outputs": [],
   "source": [
    "from sklearn.ensemble import RandomForestClassifier #Importing Random Forest Classifier\n",
    "from sklearn import metrics  # Importing metrics to test accuracy\n",
    "from sklearn.model_selection import train_test_split"
   ]
  },
  {
   "cell_type": "code",
   "execution_count": 8,
   "id": "c122cca3-a4a9-43cf-b467-6de8772edd63",
   "metadata": {},
   "outputs": [],
   "source": [
    "x_train, x_test, y_train, y_test= train_test_split(X, Y, test_size=0.3) #splitting data with test size of 30%"
   ]
  },
  {
   "cell_type": "raw",
   "id": "8f9fa277-2d74-4d45-abfd-6184de91a0d2",
   "metadata": {
    "tags": []
   },
   "source": [
    "#Set up a Random Forest Classifier and fit the model using the \"RandomForestClassifier()\" and \"fit()\" functions."
   ]
  },
  {
   "cell_type": "code",
   "execution_count": 9,
   "id": "44f32fed-fa83-4677-a999-754a44916636",
   "metadata": {
    "tags": []
   },
   "outputs": [
    {
     "name": "stdout",
     "output_type": "stream",
     "text": [
      "Accuracy: 0.9777777777777777\n"
     ]
    }
   ],
   "source": [
    "#RF Prediction\n",
    "clf=RandomForestClassifier(n_estimators=3)  #Creating a random forest with 3 decision trees\n",
    "clf.fit(x_train, y_train)  #Training our model\n",
    "y_pred=clf.predict(x_test)  #testing our model\n",
    "print(\"Accuracy:\", metrics.accuracy_score(y_test, y_pred))  #Measuring the accuracy of our model"
   ]
  },
  {
   "cell_type": "raw",
   "id": "0a253696-e824-45bb-976e-78beed05930c",
   "metadata": {
    "tags": []
   },
   "source": [
    "#Create a Streamlit app using the \"streamlit.title()\" and \"streamlit.header()\" functions to add a title and header to the app."
   ]
  },
  {
   "cell_type": "code",
   "execution_count": 10,
   "id": "0bd87b74-35a5-4e09-afeb-783ddfc589a7",
   "metadata": {
    "tags": []
   },
   "outputs": [
    {
     "name": "stderr",
     "output_type": "stream",
     "text": [
      "2023-08-22 18:26:30.229 \n",
      "  \u001b[33m\u001b[1mWarning:\u001b[0m to view this Streamlit app on a browser, run it with the following\n",
      "  command:\n",
      "\n",
      "    streamlit run C:\\Users\\hp\\anaconda3\\Lib\\site-packages\\ipykernel_launcher.py [ARGUMENTS]\n"
     ]
    },
    {
     "data": {
      "text/plain": [
       "DeltaGenerator()"
      ]
     },
     "execution_count": 10,
     "metadata": {},
     "output_type": "execute_result"
    }
   ],
   "source": [
    "#Title\n",
    "st.title(\"Iris\")\n",
    "\n",
    "#Header\n",
    "st.header(\"Iris species\")"
   ]
  },
  {
   "cell_type": "raw",
   "id": "0de7910a-16a7-4053-9973-c72f9feb263a",
   "metadata": {},
   "source": [
    "#Add input fields for sepal length, sepal width, petal length, and petal width using the \"streamlit.slider()\" function. Use the minimum, maximum, and mean values of each feature as the arguments for the function."
   ]
  },
  {
   "cell_type": "code",
   "execution_count": 11,
   "id": "07d7e6bd-a799-416c-ab88-d8e4f918a7b7",
   "metadata": {
    "tags": []
   },
   "outputs": [
    {
     "data": {
      "text/html": [
       "<div>\n",
       "<style scoped>\n",
       "    .dataframe tbody tr th:only-of-type {\n",
       "        vertical-align: middle;\n",
       "    }\n",
       "\n",
       "    .dataframe tbody tr th {\n",
       "        vertical-align: top;\n",
       "    }\n",
       "\n",
       "    .dataframe thead th {\n",
       "        text-align: right;\n",
       "    }\n",
       "</style>\n",
       "<table border=\"1\" class=\"dataframe\">\n",
       "  <thead>\n",
       "    <tr style=\"text-align: right;\">\n",
       "      <th></th>\n",
       "      <th>sepal length</th>\n",
       "      <th>sepal width</th>\n",
       "      <th>petal length</th>\n",
       "      <th>petal width</th>\n",
       "      <th>Species</th>\n",
       "    </tr>\n",
       "  </thead>\n",
       "  <tbody>\n",
       "    <tr>\n",
       "      <th>count</th>\n",
       "      <td>150.000000</td>\n",
       "      <td>150.000000</td>\n",
       "      <td>150.000000</td>\n",
       "      <td>150.000000</td>\n",
       "      <td>150.000000</td>\n",
       "    </tr>\n",
       "    <tr>\n",
       "      <th>mean</th>\n",
       "      <td>5.843333</td>\n",
       "      <td>3.057333</td>\n",
       "      <td>3.758000</td>\n",
       "      <td>1.199333</td>\n",
       "      <td>1.000000</td>\n",
       "    </tr>\n",
       "    <tr>\n",
       "      <th>std</th>\n",
       "      <td>0.828066</td>\n",
       "      <td>0.435866</td>\n",
       "      <td>1.765298</td>\n",
       "      <td>0.762238</td>\n",
       "      <td>0.819232</td>\n",
       "    </tr>\n",
       "    <tr>\n",
       "      <th>min</th>\n",
       "      <td>4.300000</td>\n",
       "      <td>2.000000</td>\n",
       "      <td>1.000000</td>\n",
       "      <td>0.100000</td>\n",
       "      <td>0.000000</td>\n",
       "    </tr>\n",
       "    <tr>\n",
       "      <th>25%</th>\n",
       "      <td>5.100000</td>\n",
       "      <td>2.800000</td>\n",
       "      <td>1.600000</td>\n",
       "      <td>0.300000</td>\n",
       "      <td>0.000000</td>\n",
       "    </tr>\n",
       "    <tr>\n",
       "      <th>50%</th>\n",
       "      <td>5.800000</td>\n",
       "      <td>3.000000</td>\n",
       "      <td>4.350000</td>\n",
       "      <td>1.300000</td>\n",
       "      <td>1.000000</td>\n",
       "    </tr>\n",
       "    <tr>\n",
       "      <th>75%</th>\n",
       "      <td>6.400000</td>\n",
       "      <td>3.300000</td>\n",
       "      <td>5.100000</td>\n",
       "      <td>1.800000</td>\n",
       "      <td>2.000000</td>\n",
       "    </tr>\n",
       "    <tr>\n",
       "      <th>max</th>\n",
       "      <td>7.900000</td>\n",
       "      <td>4.400000</td>\n",
       "      <td>6.900000</td>\n",
       "      <td>2.500000</td>\n",
       "      <td>2.000000</td>\n",
       "    </tr>\n",
       "  </tbody>\n",
       "</table>\n",
       "</div>"
      ],
      "text/plain": [
       "       sepal length  sepal width  petal length  petal width     Species\n",
       "count    150.000000   150.000000    150.000000   150.000000  150.000000\n",
       "mean       5.843333     3.057333      3.758000     1.199333    1.000000\n",
       "std        0.828066     0.435866      1.765298     0.762238    0.819232\n",
       "min        4.300000     2.000000      1.000000     0.100000    0.000000\n",
       "25%        5.100000     2.800000      1.600000     0.300000    0.000000\n",
       "50%        5.800000     3.000000      4.350000     1.300000    1.000000\n",
       "75%        6.400000     3.300000      5.100000     1.800000    2.000000\n",
       "max        7.900000     4.400000      6.900000     2.500000    2.000000"
      ]
     },
     "execution_count": 11,
     "metadata": {},
     "output_type": "execute_result"
    }
   ],
   "source": [
    "#Let's know min, max and mean for each feature\n",
    "data.describe()"
   ]
  },
  {
   "cell_type": "code",
   "execution_count": 12,
   "id": "5b6d0604-0998-4a49-801c-caf4915c627f",
   "metadata": {
    "tags": []
   },
   "outputs": [],
   "source": [
    "# Using the \"streamlit.slider()\" function\n",
    "# Using the minimum, maximum, and mean values of each feature as the arguments for the function.\n",
    "\n",
    "# Add input fields for sepal length\n",
    "slinfo = st.slider(\"Info longueur sépales\", 4.300000, 7.900000, 5.843333)\n",
    "\n",
    "# Add input fields for sepal width\n",
    "swinfo = st.slider(\"Info largeur sépales\", 2.000000, 4.400000, 3.057333)\n",
    "\n",
    "# Add input fields for petal length\n",
    "plinfo = st.slider(\"Info longueur pétales\", 1.000000, 6.900000, 3.758000)\n",
    "\n",
    "# Add input fields for petal width\n",
    "pwinfo = st.slider(\"Info largeur pétales\", 0.100000, 2.500000, 1.199333)"
   ]
  },
  {
   "cell_type": "raw",
   "id": "34c05ce2-17c6-4b40-9b16-3d2b4fb31684",
   "metadata": {},
   "source": [
    "# Define a prediction button using the \"streamlit.button()\" function that takes in the input values and uses the classifier to predict the type of iris flower."
   ]
  },
  {
   "cell_type": "code",
   "execution_count": 16,
   "id": "2916d973-5317-44b3-b7a1-b1eb65ba4e71",
   "metadata": {
    "tags": []
   },
   "outputs": [],
   "source": [
    "# Bouton de prédiction\n",
    "if st.button(\"Prédire\"):\n",
    "    # Créer un tableau avec les valeurs d'entrée\n",
    "    input_data = [[slinfo, swinfo, plinfo, pwinfo]]\n",
    "    \n",
    "    # Effectuer la prédiction\n",
    "    prediction = clf.predict(input_data)\n",
    "    predicted_class = i_data.target_names[prediction[0]]\n",
    "    \n",
    "    # Afficher le résultat de la prédiction\n",
    "    st.write(\"Le type de fleur d'Iris prédit est :\", predicted_class)  "
   ]
  },
  {
   "cell_type": "raw",
   "id": "f9e5555c-fce6-43f8-a328-dfc03e4126f7",
   "metadata": {},
   "source": [
    "# Utilisez la fonction \"streamlit.write()\" pour afficher le type de fleur d'iris prévu sur l'application."
   ]
  }
 ],
 "metadata": {
  "kernelspec": {
   "display_name": "Python 3 (ipykernel)",
   "language": "python",
   "name": "python3"
  },
  "language_info": {
   "codemirror_mode": {
    "name": "ipython",
    "version": 3
   },
   "file_extension": ".py",
   "mimetype": "text/x-python",
   "name": "python",
   "nbconvert_exporter": "python",
   "pygments_lexer": "ipython3",
   "version": "3.11.3"
  }
 },
 "nbformat": 4,
 "nbformat_minor": 5
}
